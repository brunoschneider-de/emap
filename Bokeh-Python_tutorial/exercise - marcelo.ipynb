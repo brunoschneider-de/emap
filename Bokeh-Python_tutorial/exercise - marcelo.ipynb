{
 "cells": [
  {
   "cell_type": "code",
   "execution_count": 2,
   "metadata": {},
   "outputs": [],
   "source": [
    "import os\n",
    "import re\n",
    "\n",
    "import datetime\n",
    "import csv\n",
    "import pandas as pd\n",
    "import numpy as np\n",
    "\n",
    "import bokeh\n",
    "from bokeh.models import DatetimeTickFormatter\n",
    "from bokeh.plotting import figure, show, output_file"
   ]
  },
  {
   "cell_type": "code",
   "execution_count": 3,
   "metadata": {},
   "outputs": [],
   "source": [
    "#cur_folder = os.getcwd()\n",
    "#path_images = os.path.dirname(cur_folder)\n",
    "#path_images"
   ]
  },
  {
   "cell_type": "code",
   "execution_count": 4,
   "metadata": {},
   "outputs": [],
   "source": [
    "df = pd.read_csv(\"gapminder_fertility.csv\")\n",
    "df_no_missing = df.dropna()"
   ]
  },
  {
   "cell_type": "code",
   "execution_count": 5,
   "metadata": {},
   "outputs": [],
   "source": [
    "df1 = df_no_missing[:10]\n",
    "df1 = df1.set_index('Country')"
   ]
  },
  {
   "cell_type": "code",
   "execution_count": 6,
   "metadata": {},
   "outputs": [],
   "source": [
    "df1_T = df1.transpose()"
   ]
  },
  {
   "cell_type": "code",
   "execution_count": 7,
   "metadata": {},
   "outputs": [],
   "source": [
    "def save_file(filename, p):\n",
    "    file = path_images+'\\\\'+filename\n",
    "    bokeh.io.output_file(file)\n",
    "    bokeh.io.save(p)\n",
    "    show(p)\n",
    "       \n",
    "def axis_form(p, x, y):\n",
    "    p.xaxis.formatter=DatetimeTickFormatter(\n",
    "        hours=[\"%d %B %Y\"],\n",
    "        days=[\"%d %B %Y\"],\n",
    "        months=[\"%d %B %Y\"],\n",
    "        years=[\"%d %B %Y\"],\n",
    "    )\n",
    "    p.xaxis.axis_label = x\n",
    "    p.yaxis.axis_label = y\n",
    "    return p"
   ]
  },
  {
   "cell_type": "code",
   "execution_count": 8,
   "metadata": {},
   "outputs": [],
   "source": [
    "# paleta de cores obtida em: http://tools.medialab.sciences-po.fr/iwanthue/\n",
    "palette = ['#1f77b4', '#ff7f0e', '#2ca02c', '#d62728',\n",
    "          '#9467bd', '#8c564b', '#e377c2', '#7f7f7f',\n",
    "          '#bcbd22', '#17becf']"
   ]
  },
  {
   "cell_type": "code",
   "execution_count": 9,
   "metadata": {},
   "outputs": [],
   "source": [
    "df1_T['Date'] = df1_T.index\n",
    "df1_T['Date'] = pd.to_datetime(df1_T['Date'], format='%Y')\n",
    "df1_T = df1_T.set_index('Date')"
   ]
  },
  {
   "cell_type": "code",
   "execution_count": 10,
   "metadata": {},
   "outputs": [
    {
     "data": {
      "text/html": [
       "<div>\n",
       "<style scoped>\n",
       "    .dataframe tbody tr th:only-of-type {\n",
       "        vertical-align: middle;\n",
       "    }\n",
       "\n",
       "    .dataframe tbody tr th {\n",
       "        vertical-align: top;\n",
       "    }\n",
       "\n",
       "    .dataframe thead th {\n",
       "        text-align: right;\n",
       "    }\n",
       "</style>\n",
       "<table border=\"1\" class=\"dataframe\">\n",
       "  <thead>\n",
       "    <tr style=\"text-align: right;\">\n",
       "      <th>Country</th>\n",
       "      <th>Afghanistan</th>\n",
       "      <th>Albania</th>\n",
       "      <th>Algeria</th>\n",
       "      <th>Angola</th>\n",
       "      <th>Antigua and Barbuda</th>\n",
       "      <th>Argentina</th>\n",
       "      <th>Armenia</th>\n",
       "      <th>Aruba</th>\n",
       "      <th>Australia</th>\n",
       "      <th>Austria</th>\n",
       "    </tr>\n",
       "    <tr>\n",
       "      <th>Date</th>\n",
       "      <th></th>\n",
       "      <th></th>\n",
       "      <th></th>\n",
       "      <th></th>\n",
       "      <th></th>\n",
       "      <th></th>\n",
       "      <th></th>\n",
       "      <th></th>\n",
       "      <th></th>\n",
       "      <th></th>\n",
       "    </tr>\n",
       "  </thead>\n",
       "  <tbody>\n",
       "    <tr>\n",
       "      <th>1964-01-01</th>\n",
       "      <td>7.671</td>\n",
       "      <td>5.711</td>\n",
       "      <td>7.653</td>\n",
       "      <td>7.425</td>\n",
       "      <td>4.250</td>\n",
       "      <td>3.068</td>\n",
       "      <td>4.161</td>\n",
       "      <td>4.059</td>\n",
       "      <td>3.154</td>\n",
       "      <td>2.795</td>\n",
       "    </tr>\n",
       "    <tr>\n",
       "      <th>1965-01-01</th>\n",
       "      <td>7.671</td>\n",
       "      <td>5.594</td>\n",
       "      <td>7.655</td>\n",
       "      <td>7.430</td>\n",
       "      <td>4.193</td>\n",
       "      <td>3.058</td>\n",
       "      <td>3.979</td>\n",
       "      <td>3.842</td>\n",
       "      <td>2.973</td>\n",
       "      <td>2.703</td>\n",
       "    </tr>\n",
       "    <tr>\n",
       "      <th>1966-01-01</th>\n",
       "      <td>7.671</td>\n",
       "      <td>5.483</td>\n",
       "      <td>7.657</td>\n",
       "      <td>7.422</td>\n",
       "      <td>4.125</td>\n",
       "      <td>3.051</td>\n",
       "      <td>3.788</td>\n",
       "      <td>3.625</td>\n",
       "      <td>2.885</td>\n",
       "      <td>2.663</td>\n",
       "    </tr>\n",
       "    <tr>\n",
       "      <th>1967-01-01</th>\n",
       "      <td>7.671</td>\n",
       "      <td>5.376</td>\n",
       "      <td>7.658</td>\n",
       "      <td>7.403</td>\n",
       "      <td>4.042</td>\n",
       "      <td>3.048</td>\n",
       "      <td>3.606</td>\n",
       "      <td>3.417</td>\n",
       "      <td>2.847</td>\n",
       "      <td>2.621</td>\n",
       "    </tr>\n",
       "    <tr>\n",
       "      <th>1968-01-01</th>\n",
       "      <td>7.671</td>\n",
       "      <td>5.268</td>\n",
       "      <td>7.657</td>\n",
       "      <td>7.375</td>\n",
       "      <td>3.942</td>\n",
       "      <td>3.049</td>\n",
       "      <td>3.447</td>\n",
       "      <td>3.226</td>\n",
       "      <td>2.886</td>\n",
       "      <td>2.586</td>\n",
       "    </tr>\n",
       "  </tbody>\n",
       "</table>\n",
       "</div>"
      ],
      "text/plain": [
       "Country     Afghanistan  Albania  Algeria  Angola  Antigua and Barbuda  \\\n",
       "Date                                                                     \n",
       "1964-01-01        7.671    5.711    7.653   7.425                4.250   \n",
       "1965-01-01        7.671    5.594    7.655   7.430                4.193   \n",
       "1966-01-01        7.671    5.483    7.657   7.422                4.125   \n",
       "1967-01-01        7.671    5.376    7.658   7.403                4.042   \n",
       "1968-01-01        7.671    5.268    7.657   7.375                3.942   \n",
       "\n",
       "Country     Argentina  Armenia  Aruba  Australia  Austria  \n",
       "Date                                                       \n",
       "1964-01-01      3.068    4.161  4.059      3.154    2.795  \n",
       "1965-01-01      3.058    3.979  3.842      2.973    2.703  \n",
       "1966-01-01      3.051    3.788  3.625      2.885    2.663  \n",
       "1967-01-01      3.048    3.606  3.417      2.847    2.621  \n",
       "1968-01-01      3.049    3.447  3.226      2.886    2.586  "
      ]
     },
     "execution_count": 10,
     "metadata": {},
     "output_type": "execute_result"
    }
   ],
   "source": [
    "df1_T.head()"
   ]
  },
  {
   "cell_type": "code",
   "execution_count": 11,
   "metadata": {},
   "outputs": [
    {
     "ename": "NameError",
     "evalue": "name 'path_images' is not defined",
     "output_type": "error",
     "traceback": [
      "\u001b[1;31m---------------------------------------------------------------------------\u001b[0m",
      "\u001b[1;31mNameError\u001b[0m                                 Traceback (most recent call last)",
      "\u001b[1;32m<ipython-input-11-f35b3f9a474d>\u001b[0m in \u001b[0;36m<module>\u001b[1;34m()\u001b[0m\n\u001b[0;32m     18\u001b[0m \u001b[0mp\u001b[0m \u001b[1;33m=\u001b[0m \u001b[0maxis_form\u001b[0m\u001b[1;33m(\u001b[0m\u001b[0mp\u001b[0m\u001b[1;33m,\u001b[0m \u001b[1;34m\"Time\"\u001b[0m\u001b[1;33m,\u001b[0m \u001b[1;34m\"Fertility\"\u001b[0m\u001b[1;33m)\u001b[0m\u001b[1;33m\u001b[0m\u001b[0m\n\u001b[0;32m     19\u001b[0m \u001b[0mfilename\u001b[0m \u001b[1;33m=\u001b[0m \u001b[1;34m'marcelo ribeiro image.html'\u001b[0m\u001b[1;33m\u001b[0m\u001b[0m\n\u001b[1;32m---> 20\u001b[1;33m \u001b[0msave_file\u001b[0m\u001b[1;33m(\u001b[0m\u001b[0mfilename\u001b[0m\u001b[1;33m,\u001b[0m \u001b[0mp\u001b[0m\u001b[1;33m)\u001b[0m\u001b[1;33m\u001b[0m\u001b[0m\n\u001b[0m",
      "\u001b[1;32m<ipython-input-7-ba53c1c8de1c>\u001b[0m in \u001b[0;36msave_file\u001b[1;34m(filename, p)\u001b[0m\n\u001b[0;32m      1\u001b[0m \u001b[1;32mdef\u001b[0m \u001b[0msave_file\u001b[0m\u001b[1;33m(\u001b[0m\u001b[0mfilename\u001b[0m\u001b[1;33m,\u001b[0m \u001b[0mp\u001b[0m\u001b[1;33m)\u001b[0m\u001b[1;33m:\u001b[0m\u001b[1;33m\u001b[0m\u001b[0m\n\u001b[1;32m----> 2\u001b[1;33m     \u001b[0mfile\u001b[0m \u001b[1;33m=\u001b[0m \u001b[0mpath_images\u001b[0m\u001b[1;33m+\u001b[0m\u001b[1;34m'\\\\'\u001b[0m\u001b[1;33m+\u001b[0m\u001b[0mfilename\u001b[0m\u001b[1;33m\u001b[0m\u001b[0m\n\u001b[0m\u001b[0;32m      3\u001b[0m     \u001b[0mbokeh\u001b[0m\u001b[1;33m.\u001b[0m\u001b[0mio\u001b[0m\u001b[1;33m.\u001b[0m\u001b[0moutput_file\u001b[0m\u001b[1;33m(\u001b[0m\u001b[0mfile\u001b[0m\u001b[1;33m)\u001b[0m\u001b[1;33m\u001b[0m\u001b[0m\n\u001b[0;32m      4\u001b[0m     \u001b[0mbokeh\u001b[0m\u001b[1;33m.\u001b[0m\u001b[0mio\u001b[0m\u001b[1;33m.\u001b[0m\u001b[0msave\u001b[0m\u001b[1;33m(\u001b[0m\u001b[0mp\u001b[0m\u001b[1;33m)\u001b[0m\u001b[1;33m\u001b[0m\u001b[0m\n\u001b[0;32m      5\u001b[0m     \u001b[0mshow\u001b[0m\u001b[1;33m(\u001b[0m\u001b[0mp\u001b[0m\u001b[1;33m)\u001b[0m\u001b[1;33m\u001b[0m\u001b[0m\n",
      "\u001b[1;31mNameError\u001b[0m: name 'path_images' is not defined"
     ]
    }
   ],
   "source": [
    "numlines=len(df1_T.columns)\n",
    "colors_list = palette[:numlines]\n",
    "\n",
    "names = list(df1.index)\n",
    "legends_list = names\n",
    "\n",
    "xs=[df1_T.index.values]*numlines\n",
    "ys=[df1_T[name].values for name in names]\n",
    "\n",
    "p = figure(plot_width=900, plot_height=500, title=\"Fertility rate by selected countries\")\n",
    "    \n",
    "for (colr, leg, x, y ) in zip(colors_list, legends_list, xs, ys):\n",
    "    my_plot = p.line(x, y, color= colr, legend= leg)\n",
    "\n",
    "p.legend.location = \"top_right\"\n",
    "p.legend.click_policy=\"hide\"\n",
    "\n",
    "p = axis_form(p, \"Time\", \"Fertility\")\n",
    "filename = 'marcelo ribeiro image.html'\n",
    "save_file(filename, p)"
   ]
  },
  {
   "cell_type": "code",
   "execution_count": null,
   "metadata": {},
   "outputs": [],
   "source": []
  }
 ],
 "metadata": {
  "kernelspec": {
   "display_name": "Python 3",
   "language": "python",
   "name": "python3"
  },
  "language_info": {
   "codemirror_mode": {
    "name": "ipython",
    "version": 3
   },
   "file_extension": ".py",
   "mimetype": "text/x-python",
   "name": "python",
   "nbconvert_exporter": "python",
   "pygments_lexer": "ipython3",
   "version": "3.6.5"
  }
 },
 "nbformat": 4,
 "nbformat_minor": 2
}
